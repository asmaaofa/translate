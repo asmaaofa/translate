{
  "nbformat": 4,
  "nbformat_minor": 0,
  "metadata": {
    "colab": {
      "provenance": []
    },
    "kernelspec": {
      "name": "python3",
      "display_name": "Python 3"
    },
    "language_info": {
      "name": "python"
    }
  },
  "cells": [
    {
      "cell_type": "code",
      "source": [
        "pip install translate"
      ],
      "metadata": {
        "colab": {
          "base_uri": "https://localhost:8080/"
        },
        "id": "eS8cHChjRMqP",
        "outputId": "49292266-14c2-42de-f2b0-ff4a73ba447b"
      },
      "execution_count": 1,
      "outputs": [
        {
          "output_type": "stream",
          "name": "stdout",
          "text": [
            "Looking in indexes: https://pypi.org/simple, https://us-python.pkg.dev/colab-wheels/public/simple/\n",
            "Requirement already satisfied: translate in /usr/local/lib/python3.8/dist-packages (3.6.1)\n",
            "Requirement already satisfied: click in /usr/local/lib/python3.8/dist-packages (from translate) (7.1.2)\n",
            "Requirement already satisfied: libretranslatepy==2.1.1 in /usr/local/lib/python3.8/dist-packages (from translate) (2.1.1)\n",
            "Requirement already satisfied: lxml in /usr/local/lib/python3.8/dist-packages (from translate) (4.9.2)\n",
            "Requirement already satisfied: requests in /usr/local/lib/python3.8/dist-packages (from translate) (2.28.2)\n",
            "Requirement already satisfied: certifi>=2017.4.17 in /usr/local/lib/python3.8/dist-packages (from requests->translate) (2022.12.7)\n",
            "Requirement already satisfied: urllib3<1.27,>=1.21.1 in /usr/local/lib/python3.8/dist-packages (from requests->translate) (1.24.3)\n",
            "Requirement already satisfied: charset-normalizer<4,>=2 in /usr/local/lib/python3.8/dist-packages (from requests->translate) (2.1.1)\n",
            "Requirement already satisfied: idna<4,>=2.5 in /usr/local/lib/python3.8/dist-packages (from requests->translate) (2.10)\n"
          ]
        }
      ]
    },
    {
      "cell_type": "code",
      "source": [
        "mytext = 'Welcome to Egypt'\n",
        "from translate import Translator\n",
        "translator= Translator(to_lang=\"Arabic\")\n",
        "translation = translator.translate(mytext)\n",
        "print (translation)"
      ],
      "metadata": {
        "colab": {
          "base_uri": "https://localhost:8080/"
        },
        "id": "FF7Ldh7IRWYp",
        "outputId": "850cec40-34f5-4b32-9194-140c6a48b973"
      },
      "execution_count": 23,
      "outputs": [
        {
          "output_type": "stream",
          "name": "stdout",
          "text": [
            "أهلاً بك في مصر.\n"
          ]
        }
      ]
    },
    {
      "cell_type": "code",
      "source": [
        "pip install gtts"
      ],
      "metadata": {
        "colab": {
          "base_uri": "https://localhost:8080/"
        },
        "id": "1819KouOWjHj",
        "outputId": "f4a11c9d-d139-40fa-8920-552d5e464b26"
      },
      "execution_count": 3,
      "outputs": [
        {
          "output_type": "stream",
          "name": "stdout",
          "text": [
            "Looking in indexes: https://pypi.org/simple, https://us-python.pkg.dev/colab-wheels/public/simple/\n",
            "Requirement already satisfied: gtts in /usr/local/lib/python3.8/dist-packages (2.3.1)\n",
            "Requirement already satisfied: requests<3,>=2.27 in /usr/local/lib/python3.8/dist-packages (from gtts) (2.28.2)\n",
            "Requirement already satisfied: click<8.2,>=7.1 in /usr/local/lib/python3.8/dist-packages (from gtts) (7.1.2)\n",
            "Requirement already satisfied: idna<4,>=2.5 in /usr/local/lib/python3.8/dist-packages (from requests<3,>=2.27->gtts) (2.10)\n",
            "Requirement already satisfied: urllib3<1.27,>=1.21.1 in /usr/local/lib/python3.8/dist-packages (from requests<3,>=2.27->gtts) (1.24.3)\n",
            "Requirement already satisfied: certifi>=2017.4.17 in /usr/local/lib/python3.8/dist-packages (from requests<3,>=2.27->gtts) (2022.12.7)\n",
            "Requirement already satisfied: charset-normalizer<4,>=2 in /usr/local/lib/python3.8/dist-packages (from requests<3,>=2.27->gtts) (2.1.1)\n"
          ]
        }
      ]
    },
    {
      "cell_type": "code",
      "execution_count": 25,
      "metadata": {
        "id": "xYE2byfNWQDp"
      },
      "outputs": [],
      "source": [
        "from gtts import gTTS\n",
        "import os\n",
        "myobj = gTTS(text=translation, lang='ar', slow=False)\n",
        "myobj.save(\"translate.mp3\")"
      ]
    },
    {
      "cell_type": "code",
      "source": [
        "os.system(\"mpg321 translate.mp3\")"
      ],
      "metadata": {
        "colab": {
          "base_uri": "https://localhost:8080/"
        },
        "id": "jO17IWnBX64T",
        "outputId": "d9a084e2-43bf-4118-ce85-9ce79f51bd24"
      },
      "execution_count": 26,
      "outputs": [
        {
          "output_type": "execute_result",
          "data": {
            "text/plain": [
              "32512"
            ]
          },
          "metadata": {},
          "execution_count": 26
        }
      ]
    },
    {
      "cell_type": "code",
      "source": [
        "import IPython\n",
        "IPython.display.Audio(\"translate.mp3\")"
      ],
      "metadata": {
        "id": "-rFZDDZ2zzP7",
        "outputId": "44c13789-4453-4c10-b76b-69632fb4bc74",
        "colab": {
          "base_uri": "https://localhost:8080/",
          "height": 75
        }
      },
      "execution_count": 27,
      "outputs": [
        {
          "output_type": "execute_result",
          "data": {
            "text/plain": [
              "<IPython.lib.display.Audio object>"
            ],
            "text/html": [
              "\n",
              "                <audio  controls=\"controls\" >\n",
              "                    <source src=\"data:audio/mpeg;base64,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\" type=\"audio/mpeg\" />\n",
              "                    Your browser does not support the audio element.\n",
              "                </audio>\n",
              "              "
            ]
          },
          "metadata": {},
          "execution_count": 27
        }
      ]
    }
  ]
}